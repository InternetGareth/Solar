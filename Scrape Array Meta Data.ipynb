{
 "cells": [
  {
   "cell_type": "code",
   "execution_count": null,
   "metadata": {},
   "outputs": [],
   "source": [
    "# Scrape Meta Data For All Solar Arrays\n",
    "### Url: http://dkasolarcentre.com.au/"
   ]
  },
  {
   "cell_type": "markdown",
   "metadata": {},
   "source": [
    "## Scrape Array Meta Data"
   ]
  },
  {
   "cell_type": "code",
   "execution_count": 214,
   "metadata": {},
   "outputs": [],
   "source": [
    "root_site = \"http://dkasolarcentre.com.au/historical-data/download\"\n",
    "root_data = requests.get(root_site).text\n",
    "root_soup = BeautifulSoup(root_data)\n",
    "\n",
    "link_list = root_soup.find(class_='download-list').find_all('a')\n",
    "\n",
    "array_number = root_soup.find_all(\"span\", class_=\"source-number-label\")\n",
    "array_number = [x.text for x in array_number]\n",
    "array_number = array_number[0:40]\n",
    "\n",
    "link_list = [x.get('href') for x in link_list][1::2]\n",
    "link_list = link_list[0:40]\n",
    "\n",
    "arrays_links = list(zip(link_list,array_number))"
   ]
  },
  {
   "cell_type": "code",
   "execution_count": 222,
   "metadata": {},
   "outputs": [],
   "source": [
    "\n",
    "def return_panel_data(array_url):\n",
    "    \n",
    "    panel_data = requests.get(array_url).text\n",
    "    panel_soup = BeautifulSoup(panel_data)\n",
    "    tables = panel_soup.find_all('tr')\n",
    "    features = []\n",
    "    values = []\n",
    "    \n",
    "    for table in tables:\n",
    "\n",
    "        feature = table('th')[0].text\n",
    "        feature = re.sub('\\s+', ' ', feature).strip()\n",
    "        features.append(feature)\n",
    "\n",
    "        value = table('td')[0].text\n",
    "        value  = re.sub('\\s+', ' ', value).strip()\n",
    "        values.append(value)\n",
    "\n",
    "    return (list(zip(features,values)))"
   ]
  },
  {
   "cell_type": "code",
   "execution_count": 294,
   "metadata": {},
   "outputs": [],
   "source": [
    "\n",
    "def build_panel_meta_database(array_links):\n",
    "    \n",
    "    panel_meta_data = pd.DataFrame()\n",
    "\n",
    "    for array in arrays_links:\n",
    "        url = array[0]\n",
    "        panel_number = array[1]\n",
    "        print('Getting: ' +str(panel_number))\n",
    "        panel_features = return_panel_data(url)\n",
    "\n",
    "        for feature in panel_features:\n",
    "            panel_meta_data.loc[panel_number,feature[0]] = feature[1]\n",
    "    return panel_meta_data\n"
   ]
  },
  {
   "cell_type": "code",
   "execution_count": 319,
   "metadata": {},
   "outputs": [
    {
     "name": "stdout",
     "output_type": "stream",
     "text": [
      "Getting: 1A\n",
      "Getting: 1B\n",
      "Getting: 2\n",
      "Getting: 3\n",
      "Getting: 4\n",
      "Getting: 5\n",
      "Getting: 6\n",
      "Getting: 7\n",
      "Getting: 8\n",
      "Getting: 9A\n",
      "Getting: 10\n",
      "Getting: 11\n",
      "Getting: 12\n",
      "Getting: 13\n",
      "Getting: 14\n",
      "Getting: 16A\n",
      "Getting: 16B\n",
      "Getting: 16C\n",
      "Getting: 16D\n",
      "Getting: 17\n",
      "Getting: 18\n",
      "Getting: 19\n",
      "Getting: 20\n",
      "Getting: 21\n",
      "Getting: 22\n",
      "Getting: 23\n",
      "Getting: 24\n",
      "Getting: 25\n",
      "Getting: 26\n",
      "Getting: 28\n",
      "Getting: 29\n",
      "Getting: 30\n",
      "Getting: 31\n",
      "Getting: 32\n",
      "Getting: 33\n",
      "Getting: 34\n",
      "Getting: 35\n",
      "Getting: 36\n",
      "Getting: 37\n",
      "Getting: 38\n"
     ]
    }
   ],
   "source": [
    "panel_meta_data = build_panel_meta_database(arrays_links)"
   ]
  },
  {
   "cell_type": "code",
   "execution_count": 320,
   "metadata": {},
   "outputs": [],
   "source": [
    "panel_meta_data.to_csv('panel_meta_data.csv')"
   ]
  },
  {
   "cell_type": "markdown",
   "metadata": {},
   "source": [
    "# Scrape Fault Data"
   ]
  },
  {
   "cell_type": "code",
   "execution_count": 124,
   "metadata": {
    "scrolled": false
   },
   "outputs": [],
   "source": [
    "# Scrape Fault Data\n",
    "\n",
    "import re\n",
    "import requests\n",
    "from bs4 import BeautifulSoup\n",
    "import pandas as pd\n",
    "\n",
    "fault_site = \"http://dkasolarcentre.com.au/historical-data/notes-on-the-data\"\n",
    "fault_data = requests.get(fault_site).text\n",
    "fault_soup = BeautifulSoup(fault_data)\n",
    "fault_list=fault_soup.find(\"ol\", class_=\"child-listing\")\n",
    "fault_listings =fault_list.find_all('li', recursive=False)"
   ]
  },
  {
   "cell_type": "code",
   "execution_count": 316,
   "metadata": {},
   "outputs": [],
   "source": [
    "\n",
    "def return_fault_df(fault_listings):\n",
    "    \n",
    "    fault_data = pd.DataFrame(columns=(cols))\n",
    "\n",
    "    i = 0\n",
    "    for item in fault_listings:\n",
    "        fault_ID = i\n",
    "        date = item.find(\"span\", class_='date').text\n",
    "        date = re.sub('\\s+', ' ', date).strip()\n",
    "        description = item('p')[1].text\n",
    "        title = item('h2')[0].text\n",
    "        arrays = [x.text for x in item.find_all(\"span\", class_=\"source-number-label\")]\n",
    "\n",
    "        fault_data.loc[fault_ID,'Date'] = date\n",
    "        fault_data.loc[fault_ID,'Title'] = title\n",
    "        fault_data.loc[fault_ID,'Description'] = description\n",
    "\n",
    "        for array in arrays:\n",
    "            fault_data.loc[fault_ID, array] = 1\n",
    "\n",
    "        i += 1\n",
    "\n",
    "    fault_data.index = pd.to_datetime(fault_data.Date)\n",
    "    fault_data = fault_data.drop('Date', axis=1)\n",
    "    \n",
    "    return fault_data"
   ]
  },
  {
   "cell_type": "code",
   "execution_count": 317,
   "metadata": {},
   "outputs": [],
   "source": [
    "fault_data = return_fault_df(fault_listings)"
   ]
  },
  {
   "cell_type": "code",
   "execution_count": 321,
   "metadata": {},
   "outputs": [],
   "source": [
    "fault_data.to_csv('fault_data_07_12_19.csv')"
   ]
  },
  {
   "cell_type": "code",
   "execution_count": null,
   "metadata": {},
   "outputs": [],
   "source": []
  },
  {
   "cell_type": "code",
   "execution_count": null,
   "metadata": {},
   "outputs": [],
   "source": []
  },
  {
   "cell_type": "code",
   "execution_count": null,
   "metadata": {},
   "outputs": [],
   "source": []
  }
 ],
 "metadata": {
  "kernelspec": {
   "display_name": "Python 3",
   "language": "python",
   "name": "python3"
  },
  "language_info": {
   "codemirror_mode": {
    "name": "ipython",
    "version": 3
   },
   "file_extension": ".py",
   "mimetype": "text/x-python",
   "name": "python",
   "nbconvert_exporter": "python",
   "pygments_lexer": "ipython3",
   "version": "3.7.2"
  }
 },
 "nbformat": 4,
 "nbformat_minor": 2
}
